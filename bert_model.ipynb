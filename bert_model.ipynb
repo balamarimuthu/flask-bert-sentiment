{
 "cells": [
  {
   "cell_type": "code",
   "execution_count": 5,
   "id": "d95d9760-d6e5-4c15-8fe0-aa68c8db57a3",
   "metadata": {},
   "outputs": [],
   "source": [
    "from transformers import BertTokenizer,BertForSequenceClassification,Trainer,TrainingArguments\n",
    "from datasets import load_dataset\n",
    "import pandas as pd"
   ]
  },
  {
   "cell_type": "code",
   "execution_count": 6,
   "id": "ab2764f2-0d37-4af6-8bbe-50f5cf54148a",
   "metadata": {},
   "outputs": [],
   "source": [
    "dataset= load_dataset('imdb')"
   ]
  },
  {
   "cell_type": "code",
   "execution_count": 7,
   "id": "454e83cc-6ca9-4307-b335-f3c82f616f22",
   "metadata": {
    "scrolled": true
   },
   "outputs": [],
   "source": [
    "local_model_path=r\"C:\\Users\\balap\\for jupyter note book\\BERT\\bert_local\""
   ]
  },
  {
   "cell_type": "code",
   "execution_count": 9,
   "id": "761f357f-9edd-4dd3-bb63-f336c9ee46c1",
   "metadata": {},
   "outputs": [],
   "source": [
    "tokenzier=BertTokenizer.from_pretrained(local_model_path)\n",
    "def tokenize_function(examples):\n",
    "    return tokenizer(examples['text'],padding='max_length',truncation=True)\n",
    "tokenize_dataset= dataset.map(tokenize_function, batched=True)"
   ]
  },
  {
   "cell_type": "code",
   "execution_count": 9,
   "id": "d54a15e5-7d1c-425d-957a-67a752e20826",
   "metadata": {},
   "outputs": [
    {
     "name": "stderr",
     "output_type": "stream",
     "text": [
      "Some weights of BertForSequenceClassification were not initialized from the model checkpoint at C:\\Users\\balap\\for jupyter note book\\BERT\\bert_local and are newly initialized: ['classifier.bias', 'classifier.weight']\n",
      "You should probably TRAIN this model on a down-stream task to be able to use it for predictions and inference.\n"
     ]
    }
   ],
   "source": [
    "model= BertForSequenceClassification.from_pretrained(local_model_path,num_labels=2)\n"
   ]
  },
  {
   "cell_type": "code",
   "execution_count": 14,
   "id": "f5bcb591-9b66-43d4-a802-333340e8b68b",
   "metadata": {},
   "outputs": [],
   "source": [
    "trainig_arg=TrainingArguments(\n",
    "    output_dir='./results',\n",
    "    eval_strategy ='epoch',\n",
    "    learning_rate=0.00002,\n",
    "    per_device_train_batch_size= 8,\n",
    "    num_train_epochs=1,\n",
    "    weight_decay= 0.01,\n",
    ")\n",
    "\n",
    "    \n"
   ]
  },
  {
   "cell_type": "code",
   "execution_count": 20,
   "id": "a47f04c8-2a0a-437c-8812-de2d15078209",
   "metadata": {},
   "outputs": [],
   "source": [
    "trainer= Trainer(\n",
    "    model=model,\n",
    "    args= trainig_arg,\n",
    "    train_dataset= tokenize_dataset['train'].shuffle(seed=42).select(range(500)),\n",
    "    eval_dataset= tokenize_dataset['test'].shuffle(seed=42).select(range(100)),\n",
    ")\n",
    "                                                    \n",
    "                                            \n"
   ]
  },
  {
   "cell_type": "code",
   "execution_count": 22,
   "id": "2676efaf-9b2c-4c1f-8ea3-92217b704a47",
   "metadata": {},
   "outputs": [
    {
     "data": {
      "text/html": [
       "\n",
       "    <div>\n",
       "      \n",
       "      <progress value='63' max='63' style='width:300px; height:20px; vertical-align: middle;'></progress>\n",
       "      [63/63 17:41, Epoch 1/1]\n",
       "    </div>\n",
       "    <table border=\"1\" class=\"dataframe\">\n",
       "  <thead>\n",
       " <tr style=\"text-align: left;\">\n",
       "      <th>Epoch</th>\n",
       "      <th>Training Loss</th>\n",
       "      <th>Validation Loss</th>\n",
       "    </tr>\n",
       "  </thead>\n",
       "  <tbody>\n",
       "    <tr>\n",
       "      <td>1</td>\n",
       "      <td>No log</td>\n",
       "      <td>0.469704</td>\n",
       "    </tr>\n",
       "  </tbody>\n",
       "</table><p>"
      ],
      "text/plain": [
       "<IPython.core.display.HTML object>"
      ]
     },
     "metadata": {},
     "output_type": "display_data"
    },
    {
     "name": "stderr",
     "output_type": "stream",
     "text": [
      "C:\\Users\\balap\\anaconda3\\Lib\\site-packages\\torch\\utils\\data\\dataloader.py:665: UserWarning: 'pin_memory' argument is set as true but no accelerator is found, then device pinned memory won't be used.\n",
      "  warnings.warn(warn_msg)\n",
      "C:\\Users\\balap\\anaconda3\\Lib\\site-packages\\torch\\nn\\modules\\module.py:1762: FutureWarning: `encoder_attention_mask` is deprecated and will be removed in version 4.55.0 for `BertSdpaSelfAttention.forward`.\n",
      "  return forward_call(*args, **kwargs)\n"
     ]
    },
    {
     "data": {
      "text/plain": [
       "TrainOutput(global_step=63, training_loss=0.5704627264113653, metrics={'train_runtime': 1081.0311, 'train_samples_per_second': 0.463, 'train_steps_per_second': 0.058, 'total_flos': 131555527680000.0, 'train_loss': 0.5704627264113653, 'epoch': 1.0})"
      ]
     },
     "execution_count": 22,
     "metadata": {},
     "output_type": "execute_result"
    }
   ],
   "source": [
    "trainer.train()"
   ]
  },
  {
   "cell_type": "code",
   "execution_count": 39,
   "id": "210b7f63-6cea-4747-803b-a423292297d6",
   "metadata": {},
   "outputs": [
    {
     "name": "stdout",
     "output_type": "stream",
     "text": [
      "predicted class: positive\n"
     ]
    }
   ],
   "source": [
    "inputs= tokenizer(\"This movie is wwaste \",return_tensors='pt')\n",
    "outputs=model(**inputs)\n",
    "logits=outputs.logits\n",
    "predicted_class=logits.argmax().item()\n",
    "print(\"predicted class:\",\"positive\" if predicted_class==1 else \"negative\")"
   ]
  },
  {
   "cell_type": "code",
   "execution_count": 59,
   "id": "934a9f38-1bd0-419e-88c0-bda4c3dd559c",
   "metadata": {},
   "outputs": [
    {
     "data": {
      "text/plain": [
       "('./bert_sentiment_model\\\\tokenizer_config.json',\n",
       " './bert_sentiment_model\\\\special_tokens_map.json',\n",
       " './bert_sentiment_model\\\\vocab.txt',\n",
       " './bert_sentiment_model\\\\added_tokens.json')"
      ]
     },
     "execution_count": 59,
     "metadata": {},
     "output_type": "execute_result"
    }
   ],
   "source": [
    "# Save model\n",
    "model.save_pretrained(\"./bert_sentiment_model\")\n",
    "# Save tokenizer\n",
    "tokenizer.save_pretrained(\"./bert_sentiment_model\")\n"
   ]
  },
  {
   "cell_type": "code",
   "execution_count": null,
   "id": "d55a9537-3db0-426e-bf43-e3a42b53647a",
   "metadata": {},
   "outputs": [],
   "source": []
  },
  {
   "cell_type": "code",
   "execution_count": null,
   "id": "833f33c2-23a8-4fb4-8ac1-d1a6f69f72bc",
   "metadata": {},
   "outputs": [],
   "source": []
  }
 ],
 "metadata": {
  "kernelspec": {
   "display_name": "Python 3 (ipykernel)",
   "language": "python",
   "name": "python3"
  },
  "language_info": {
   "codemirror_mode": {
    "name": "ipython",
    "version": 3
   },
   "file_extension": ".py",
   "mimetype": "text/x-python",
   "name": "python",
   "nbconvert_exporter": "python",
   "pygments_lexer": "ipython3",
   "version": "3.12.7"
  }
 },
 "nbformat": 4,
 "nbformat_minor": 5
}
