{
 "cells": [
  {
   "cell_type": "code",
   "execution_count": 1,
   "id": "bdfc6897-8f7c-48c9-aad9-b572c45e71f1",
   "metadata": {},
   "outputs": [
    {
     "ename": "ConnectionError",
     "evalue": "(MaxRetryError('HTTPSConnectionPool(host=\\'huggingface.co\\', port=443): Max retries exceeded with url: /api/models/bert-base-uncased/tree/main/additional_chat_templates?recursive=False&expand=False (Caused by NameResolutionError(\"<urllib3.connection.HTTPSConnection object at 0x000002C7BAADACC0>: Failed to resolve \\'huggingface.co\\' ([Errno 11001] getaddrinfo failed)\"))'), '(Request ID: 95aacf9e-0ca9-44c1-8711-171202b12fb9)')",
     "output_type": "error",
     "traceback": [
      "\u001b[1;31m---------------------------------------------------------------------------\u001b[0m",
      "\u001b[1;31mgaierror\u001b[0m                                  Traceback (most recent call last)",
      "File \u001b[1;32m~\\anaconda3\\Lib\\site-packages\\urllib3\\connection.py:199\u001b[0m, in \u001b[0;36mHTTPConnection._new_conn\u001b[1;34m(self)\u001b[0m\n\u001b[0;32m    198\u001b[0m \u001b[38;5;28;01mtry\u001b[39;00m:\n\u001b[1;32m--> 199\u001b[0m     sock \u001b[38;5;241m=\u001b[39m connection\u001b[38;5;241m.\u001b[39mcreate_connection(\n\u001b[0;32m    200\u001b[0m         (\u001b[38;5;28mself\u001b[39m\u001b[38;5;241m.\u001b[39m_dns_host, \u001b[38;5;28mself\u001b[39m\u001b[38;5;241m.\u001b[39mport),\n\u001b[0;32m    201\u001b[0m         \u001b[38;5;28mself\u001b[39m\u001b[38;5;241m.\u001b[39mtimeout,\n\u001b[0;32m    202\u001b[0m         source_address\u001b[38;5;241m=\u001b[39m\u001b[38;5;28mself\u001b[39m\u001b[38;5;241m.\u001b[39msource_address,\n\u001b[0;32m    203\u001b[0m         socket_options\u001b[38;5;241m=\u001b[39m\u001b[38;5;28mself\u001b[39m\u001b[38;5;241m.\u001b[39msocket_options,\n\u001b[0;32m    204\u001b[0m     )\n\u001b[0;32m    205\u001b[0m \u001b[38;5;28;01mexcept\u001b[39;00m socket\u001b[38;5;241m.\u001b[39mgaierror \u001b[38;5;28;01mas\u001b[39;00m e:\n",
      "File \u001b[1;32m~\\anaconda3\\Lib\\site-packages\\urllib3\\util\\connection.py:60\u001b[0m, in \u001b[0;36mcreate_connection\u001b[1;34m(address, timeout, source_address, socket_options)\u001b[0m\n\u001b[0;32m     58\u001b[0m     \u001b[38;5;28;01mraise\u001b[39;00m LocationParseError(\u001b[38;5;124mf\u001b[39m\u001b[38;5;124m\"\u001b[39m\u001b[38;5;124m'\u001b[39m\u001b[38;5;132;01m{\u001b[39;00mhost\u001b[38;5;132;01m}\u001b[39;00m\u001b[38;5;124m'\u001b[39m\u001b[38;5;124m, label empty or too long\u001b[39m\u001b[38;5;124m\"\u001b[39m) \u001b[38;5;28;01mfrom\u001b[39;00m \u001b[38;5;28;01mNone\u001b[39;00m\n\u001b[1;32m---> 60\u001b[0m \u001b[38;5;28;01mfor\u001b[39;00m res \u001b[38;5;129;01min\u001b[39;00m socket\u001b[38;5;241m.\u001b[39mgetaddrinfo(host, port, family, socket\u001b[38;5;241m.\u001b[39mSOCK_STREAM):\n\u001b[0;32m     61\u001b[0m     af, socktype, proto, canonname, sa \u001b[38;5;241m=\u001b[39m res\n",
      "File \u001b[1;32m~\\anaconda3\\Lib\\socket.py:976\u001b[0m, in \u001b[0;36mgetaddrinfo\u001b[1;34m(host, port, family, type, proto, flags)\u001b[0m\n\u001b[0;32m    975\u001b[0m addrlist \u001b[38;5;241m=\u001b[39m []\n\u001b[1;32m--> 976\u001b[0m \u001b[38;5;28;01mfor\u001b[39;00m res \u001b[38;5;129;01min\u001b[39;00m _socket\u001b[38;5;241m.\u001b[39mgetaddrinfo(host, port, family, \u001b[38;5;28mtype\u001b[39m, proto, flags):\n\u001b[0;32m    977\u001b[0m     af, socktype, proto, canonname, sa \u001b[38;5;241m=\u001b[39m res\n",
      "\u001b[1;31mgaierror\u001b[0m: [Errno 11001] getaddrinfo failed",
      "\nThe above exception was the direct cause of the following exception:\n",
      "\u001b[1;31mNameResolutionError\u001b[0m                       Traceback (most recent call last)",
      "File \u001b[1;32m~\\anaconda3\\Lib\\site-packages\\urllib3\\connectionpool.py:789\u001b[0m, in \u001b[0;36mHTTPConnectionPool.urlopen\u001b[1;34m(self, method, url, body, headers, retries, redirect, assert_same_host, timeout, pool_timeout, release_conn, chunked, body_pos, preload_content, decode_content, **response_kw)\u001b[0m\n\u001b[0;32m    788\u001b[0m \u001b[38;5;66;03m# Make the request on the HTTPConnection object\u001b[39;00m\n\u001b[1;32m--> 789\u001b[0m response \u001b[38;5;241m=\u001b[39m \u001b[38;5;28mself\u001b[39m\u001b[38;5;241m.\u001b[39m_make_request(\n\u001b[0;32m    790\u001b[0m     conn,\n\u001b[0;32m    791\u001b[0m     method,\n\u001b[0;32m    792\u001b[0m     url,\n\u001b[0;32m    793\u001b[0m     timeout\u001b[38;5;241m=\u001b[39mtimeout_obj,\n\u001b[0;32m    794\u001b[0m     body\u001b[38;5;241m=\u001b[39mbody,\n\u001b[0;32m    795\u001b[0m     headers\u001b[38;5;241m=\u001b[39mheaders,\n\u001b[0;32m    796\u001b[0m     chunked\u001b[38;5;241m=\u001b[39mchunked,\n\u001b[0;32m    797\u001b[0m     retries\u001b[38;5;241m=\u001b[39mretries,\n\u001b[0;32m    798\u001b[0m     response_conn\u001b[38;5;241m=\u001b[39mresponse_conn,\n\u001b[0;32m    799\u001b[0m     preload_content\u001b[38;5;241m=\u001b[39mpreload_content,\n\u001b[0;32m    800\u001b[0m     decode_content\u001b[38;5;241m=\u001b[39mdecode_content,\n\u001b[0;32m    801\u001b[0m     \u001b[38;5;241m*\u001b[39m\u001b[38;5;241m*\u001b[39mresponse_kw,\n\u001b[0;32m    802\u001b[0m )\n\u001b[0;32m    804\u001b[0m \u001b[38;5;66;03m# Everything went great!\u001b[39;00m\n",
      "File \u001b[1;32m~\\anaconda3\\Lib\\site-packages\\urllib3\\connectionpool.py:490\u001b[0m, in \u001b[0;36mHTTPConnectionPool._make_request\u001b[1;34m(self, conn, method, url, body, headers, retries, timeout, chunked, response_conn, preload_content, decode_content, enforce_content_length)\u001b[0m\n\u001b[0;32m    489\u001b[0m         new_e \u001b[38;5;241m=\u001b[39m _wrap_proxy_error(new_e, conn\u001b[38;5;241m.\u001b[39mproxy\u001b[38;5;241m.\u001b[39mscheme)\n\u001b[1;32m--> 490\u001b[0m     \u001b[38;5;28;01mraise\u001b[39;00m new_e\n\u001b[0;32m    492\u001b[0m \u001b[38;5;66;03m# conn.request() calls http.client.*.request, not the method in\u001b[39;00m\n\u001b[0;32m    493\u001b[0m \u001b[38;5;66;03m# urllib3.request. It also calls makefile (recv) on the socket.\u001b[39;00m\n",
      "File \u001b[1;32m~\\anaconda3\\Lib\\site-packages\\urllib3\\connectionpool.py:466\u001b[0m, in \u001b[0;36mHTTPConnectionPool._make_request\u001b[1;34m(self, conn, method, url, body, headers, retries, timeout, chunked, response_conn, preload_content, decode_content, enforce_content_length)\u001b[0m\n\u001b[0;32m    465\u001b[0m \u001b[38;5;28;01mtry\u001b[39;00m:\n\u001b[1;32m--> 466\u001b[0m     \u001b[38;5;28mself\u001b[39m\u001b[38;5;241m.\u001b[39m_validate_conn(conn)\n\u001b[0;32m    467\u001b[0m \u001b[38;5;28;01mexcept\u001b[39;00m (SocketTimeout, BaseSSLError) \u001b[38;5;28;01mas\u001b[39;00m e:\n",
      "File \u001b[1;32m~\\anaconda3\\Lib\\site-packages\\urllib3\\connectionpool.py:1095\u001b[0m, in \u001b[0;36mHTTPSConnectionPool._validate_conn\u001b[1;34m(self, conn)\u001b[0m\n\u001b[0;32m   1094\u001b[0m \u001b[38;5;28;01mif\u001b[39;00m conn\u001b[38;5;241m.\u001b[39mis_closed:\n\u001b[1;32m-> 1095\u001b[0m     conn\u001b[38;5;241m.\u001b[39mconnect()\n\u001b[0;32m   1097\u001b[0m \u001b[38;5;66;03m# TODO revise this, see https://github.com/urllib3/urllib3/issues/2791\u001b[39;00m\n",
      "File \u001b[1;32m~\\anaconda3\\Lib\\site-packages\\urllib3\\connection.py:693\u001b[0m, in \u001b[0;36mHTTPSConnection.connect\u001b[1;34m(self)\u001b[0m\n\u001b[0;32m    692\u001b[0m sock: socket\u001b[38;5;241m.\u001b[39msocket \u001b[38;5;241m|\u001b[39m ssl\u001b[38;5;241m.\u001b[39mSSLSocket\n\u001b[1;32m--> 693\u001b[0m \u001b[38;5;28mself\u001b[39m\u001b[38;5;241m.\u001b[39msock \u001b[38;5;241m=\u001b[39m sock \u001b[38;5;241m=\u001b[39m \u001b[38;5;28mself\u001b[39m\u001b[38;5;241m.\u001b[39m_new_conn()\n\u001b[0;32m    694\u001b[0m server_hostname: \u001b[38;5;28mstr\u001b[39m \u001b[38;5;241m=\u001b[39m \u001b[38;5;28mself\u001b[39m\u001b[38;5;241m.\u001b[39mhost\n",
      "File \u001b[1;32m~\\anaconda3\\Lib\\site-packages\\urllib3\\connection.py:206\u001b[0m, in \u001b[0;36mHTTPConnection._new_conn\u001b[1;34m(self)\u001b[0m\n\u001b[0;32m    205\u001b[0m \u001b[38;5;28;01mexcept\u001b[39;00m socket\u001b[38;5;241m.\u001b[39mgaierror \u001b[38;5;28;01mas\u001b[39;00m e:\n\u001b[1;32m--> 206\u001b[0m     \u001b[38;5;28;01mraise\u001b[39;00m NameResolutionError(\u001b[38;5;28mself\u001b[39m\u001b[38;5;241m.\u001b[39mhost, \u001b[38;5;28mself\u001b[39m, e) \u001b[38;5;28;01mfrom\u001b[39;00m \u001b[38;5;21;01me\u001b[39;00m\n\u001b[0;32m    207\u001b[0m \u001b[38;5;28;01mexcept\u001b[39;00m SocketTimeout \u001b[38;5;28;01mas\u001b[39;00m e:\n",
      "\u001b[1;31mNameResolutionError\u001b[0m: <urllib3.connection.HTTPSConnection object at 0x000002C7BAADACC0>: Failed to resolve 'huggingface.co' ([Errno 11001] getaddrinfo failed)",
      "\nThe above exception was the direct cause of the following exception:\n",
      "\u001b[1;31mMaxRetryError\u001b[0m                             Traceback (most recent call last)",
      "File \u001b[1;32m~\\anaconda3\\Lib\\site-packages\\requests\\adapters.py:667\u001b[0m, in \u001b[0;36mHTTPAdapter.send\u001b[1;34m(self, request, stream, timeout, verify, cert, proxies)\u001b[0m\n\u001b[0;32m    666\u001b[0m \u001b[38;5;28;01mtry\u001b[39;00m:\n\u001b[1;32m--> 667\u001b[0m     resp \u001b[38;5;241m=\u001b[39m conn\u001b[38;5;241m.\u001b[39murlopen(\n\u001b[0;32m    668\u001b[0m         method\u001b[38;5;241m=\u001b[39mrequest\u001b[38;5;241m.\u001b[39mmethod,\n\u001b[0;32m    669\u001b[0m         url\u001b[38;5;241m=\u001b[39murl,\n\u001b[0;32m    670\u001b[0m         body\u001b[38;5;241m=\u001b[39mrequest\u001b[38;5;241m.\u001b[39mbody,\n\u001b[0;32m    671\u001b[0m         headers\u001b[38;5;241m=\u001b[39mrequest\u001b[38;5;241m.\u001b[39mheaders,\n\u001b[0;32m    672\u001b[0m         redirect\u001b[38;5;241m=\u001b[39m\u001b[38;5;28;01mFalse\u001b[39;00m,\n\u001b[0;32m    673\u001b[0m         assert_same_host\u001b[38;5;241m=\u001b[39m\u001b[38;5;28;01mFalse\u001b[39;00m,\n\u001b[0;32m    674\u001b[0m         preload_content\u001b[38;5;241m=\u001b[39m\u001b[38;5;28;01mFalse\u001b[39;00m,\n\u001b[0;32m    675\u001b[0m         decode_content\u001b[38;5;241m=\u001b[39m\u001b[38;5;28;01mFalse\u001b[39;00m,\n\u001b[0;32m    676\u001b[0m         retries\u001b[38;5;241m=\u001b[39m\u001b[38;5;28mself\u001b[39m\u001b[38;5;241m.\u001b[39mmax_retries,\n\u001b[0;32m    677\u001b[0m         timeout\u001b[38;5;241m=\u001b[39mtimeout,\n\u001b[0;32m    678\u001b[0m         chunked\u001b[38;5;241m=\u001b[39mchunked,\n\u001b[0;32m    679\u001b[0m     )\n\u001b[0;32m    681\u001b[0m \u001b[38;5;28;01mexcept\u001b[39;00m (ProtocolError, \u001b[38;5;167;01mOSError\u001b[39;00m) \u001b[38;5;28;01mas\u001b[39;00m err:\n",
      "File \u001b[1;32m~\\anaconda3\\Lib\\site-packages\\urllib3\\connectionpool.py:843\u001b[0m, in \u001b[0;36mHTTPConnectionPool.urlopen\u001b[1;34m(self, method, url, body, headers, retries, redirect, assert_same_host, timeout, pool_timeout, release_conn, chunked, body_pos, preload_content, decode_content, **response_kw)\u001b[0m\n\u001b[0;32m    841\u001b[0m     new_e \u001b[38;5;241m=\u001b[39m ProtocolError(\u001b[38;5;124m\"\u001b[39m\u001b[38;5;124mConnection aborted.\u001b[39m\u001b[38;5;124m\"\u001b[39m, new_e)\n\u001b[1;32m--> 843\u001b[0m retries \u001b[38;5;241m=\u001b[39m retries\u001b[38;5;241m.\u001b[39mincrement(\n\u001b[0;32m    844\u001b[0m     method, url, error\u001b[38;5;241m=\u001b[39mnew_e, _pool\u001b[38;5;241m=\u001b[39m\u001b[38;5;28mself\u001b[39m, _stacktrace\u001b[38;5;241m=\u001b[39msys\u001b[38;5;241m.\u001b[39mexc_info()[\u001b[38;5;241m2\u001b[39m]\n\u001b[0;32m    845\u001b[0m )\n\u001b[0;32m    846\u001b[0m retries\u001b[38;5;241m.\u001b[39msleep()\n",
      "File \u001b[1;32m~\\anaconda3\\Lib\\site-packages\\urllib3\\util\\retry.py:519\u001b[0m, in \u001b[0;36mRetry.increment\u001b[1;34m(self, method, url, response, error, _pool, _stacktrace)\u001b[0m\n\u001b[0;32m    518\u001b[0m     reason \u001b[38;5;241m=\u001b[39m error \u001b[38;5;129;01mor\u001b[39;00m ResponseError(cause)\n\u001b[1;32m--> 519\u001b[0m     \u001b[38;5;28;01mraise\u001b[39;00m MaxRetryError(_pool, url, reason) \u001b[38;5;28;01mfrom\u001b[39;00m \u001b[38;5;21;01mreason\u001b[39;00m  \u001b[38;5;66;03m# type: ignore[arg-type]\u001b[39;00m\n\u001b[0;32m    521\u001b[0m log\u001b[38;5;241m.\u001b[39mdebug(\u001b[38;5;124m\"\u001b[39m\u001b[38;5;124mIncremented Retry for (url=\u001b[39m\u001b[38;5;124m'\u001b[39m\u001b[38;5;132;01m%s\u001b[39;00m\u001b[38;5;124m'\u001b[39m\u001b[38;5;124m): \u001b[39m\u001b[38;5;132;01m%r\u001b[39;00m\u001b[38;5;124m\"\u001b[39m, url, new_retry)\n",
      "\u001b[1;31mMaxRetryError\u001b[0m: HTTPSConnectionPool(host='huggingface.co', port=443): Max retries exceeded with url: /api/models/bert-base-uncased/tree/main/additional_chat_templates?recursive=False&expand=False (Caused by NameResolutionError(\"<urllib3.connection.HTTPSConnection object at 0x000002C7BAADACC0>: Failed to resolve 'huggingface.co' ([Errno 11001] getaddrinfo failed)\"))",
      "\nDuring handling of the above exception, another exception occurred:\n",
      "\u001b[1;31mConnectionError\u001b[0m                           Traceback (most recent call last)",
      "Cell \u001b[1;32mIn[1], line 3\u001b[0m\n\u001b[0;32m      1\u001b[0m \u001b[38;5;28;01mfrom\u001b[39;00m \u001b[38;5;21;01mtransformers\u001b[39;00m \u001b[38;5;28;01mimport\u001b[39;00m BertTokenizer\n\u001b[1;32m----> 3\u001b[0m tokenizer \u001b[38;5;241m=\u001b[39m BertTokenizer\u001b[38;5;241m.\u001b[39mfrom_pretrained(\u001b[38;5;124m'\u001b[39m\u001b[38;5;124mbert-base-uncased\u001b[39m\u001b[38;5;124m'\u001b[39m)\n\u001b[0;32m      5\u001b[0m sentence \u001b[38;5;241m=\u001b[39m \u001b[38;5;124m\"\u001b[39m\u001b[38;5;124mI am Bala and I live in India!1.\u001b[39m\u001b[38;5;124m\"\u001b[39m\n\u001b[0;32m      6\u001b[0m tokens \u001b[38;5;241m=\u001b[39m tokenizer\u001b[38;5;241m.\u001b[39mtokenize(sentence)\n",
      "File \u001b[1;32m~\\anaconda3\\Lib\\site-packages\\transformers\\tokenization_utils_base.py:1956\u001b[0m, in \u001b[0;36mPreTrainedTokenizerBase.from_pretrained\u001b[1;34m(cls, pretrained_model_name_or_path, cache_dir, force_download, local_files_only, token, revision, trust_remote_code, *init_inputs, **kwargs)\u001b[0m\n\u001b[0;32m   1952\u001b[0m                         vocab_files[\u001b[38;5;124mf\u001b[39m\u001b[38;5;124m\"\u001b[39m\u001b[38;5;124mchat_template_\u001b[39m\u001b[38;5;132;01m{\u001b[39;00mtemplate_name\u001b[38;5;132;01m}\u001b[39;00m\u001b[38;5;124m\"\u001b[39m] \u001b[38;5;241m=\u001b[39m (\n\u001b[0;32m   1953\u001b[0m                             \u001b[38;5;124mf\u001b[39m\u001b[38;5;124m\"\u001b[39m\u001b[38;5;132;01m{\u001b[39;00mCHAT_TEMPLATE_DIR\u001b[38;5;132;01m}\u001b[39;00m\u001b[38;5;124m/\u001b[39m\u001b[38;5;132;01m{\u001b[39;00mtemplate_file\u001b[38;5;241m.\u001b[39mname\u001b[38;5;132;01m}\u001b[39;00m\u001b[38;5;124m\"\u001b[39m\n\u001b[0;32m   1954\u001b[0m                         )\n\u001b[0;32m   1955\u001b[0m             \u001b[38;5;28;01melse\u001b[39;00m:\n\u001b[1;32m-> 1956\u001b[0m                 \u001b[38;5;28;01mfor\u001b[39;00m template \u001b[38;5;129;01min\u001b[39;00m list_repo_templates(\n\u001b[0;32m   1957\u001b[0m                     pretrained_model_name_or_path,\n\u001b[0;32m   1958\u001b[0m                     local_files_only\u001b[38;5;241m=\u001b[39mlocal_files_only,\n\u001b[0;32m   1959\u001b[0m                     revision\u001b[38;5;241m=\u001b[39mrevision,\n\u001b[0;32m   1960\u001b[0m                     cache_dir\u001b[38;5;241m=\u001b[39mcache_dir,\n\u001b[0;32m   1961\u001b[0m                 ):\n\u001b[0;32m   1962\u001b[0m                     vocab_files[\u001b[38;5;124mf\u001b[39m\u001b[38;5;124m\"\u001b[39m\u001b[38;5;124mchat_template_\u001b[39m\u001b[38;5;132;01m{\u001b[39;00mtemplate\u001b[38;5;132;01m}\u001b[39;00m\u001b[38;5;124m\"\u001b[39m] \u001b[38;5;241m=\u001b[39m \u001b[38;5;124mf\u001b[39m\u001b[38;5;124m\"\u001b[39m\u001b[38;5;132;01m{\u001b[39;00mCHAT_TEMPLATE_DIR\u001b[38;5;132;01m}\u001b[39;00m\u001b[38;5;124m/\u001b[39m\u001b[38;5;132;01m{\u001b[39;00mtemplate\u001b[38;5;132;01m}\u001b[39;00m\u001b[38;5;124m.jinja\u001b[39m\u001b[38;5;124m\"\u001b[39m\n\u001b[0;32m   1964\u001b[0m \u001b[38;5;66;03m# Get files from url, cache, or disk depending on the case\u001b[39;00m\n",
      "File \u001b[1;32m~\\anaconda3\\Lib\\site-packages\\transformers\\utils\\hub.py:169\u001b[0m, in \u001b[0;36mlist_repo_templates\u001b[1;34m(repo_id, local_files_only, revision, cache_dir)\u001b[0m\n\u001b[0;32m    165\u001b[0m \u001b[38;5;28;01mif\u001b[39;00m \u001b[38;5;129;01mnot\u001b[39;00m local_files_only:\n\u001b[0;32m    166\u001b[0m     \u001b[38;5;28;01mtry\u001b[39;00m:\n\u001b[0;32m    167\u001b[0m         \u001b[38;5;28;01mreturn\u001b[39;00m [\n\u001b[0;32m    168\u001b[0m             entry\u001b[38;5;241m.\u001b[39mpath\u001b[38;5;241m.\u001b[39mremoveprefix(\u001b[38;5;124mf\u001b[39m\u001b[38;5;124m\"\u001b[39m\u001b[38;5;132;01m{\u001b[39;00mCHAT_TEMPLATE_DIR\u001b[38;5;132;01m}\u001b[39;00m\u001b[38;5;124m/\u001b[39m\u001b[38;5;124m\"\u001b[39m)\n\u001b[1;32m--> 169\u001b[0m             \u001b[38;5;28;01mfor\u001b[39;00m entry \u001b[38;5;129;01min\u001b[39;00m list_repo_tree(\n\u001b[0;32m    170\u001b[0m                 repo_id\u001b[38;5;241m=\u001b[39mrepo_id, revision\u001b[38;5;241m=\u001b[39mrevision, path_in_repo\u001b[38;5;241m=\u001b[39mCHAT_TEMPLATE_DIR, recursive\u001b[38;5;241m=\u001b[39m\u001b[38;5;28;01mFalse\u001b[39;00m\n\u001b[0;32m    171\u001b[0m             )\n\u001b[0;32m    172\u001b[0m             \u001b[38;5;28;01mif\u001b[39;00m entry\u001b[38;5;241m.\u001b[39mpath\u001b[38;5;241m.\u001b[39mendswith(\u001b[38;5;124m\"\u001b[39m\u001b[38;5;124m.jinja\u001b[39m\u001b[38;5;124m\"\u001b[39m)\n\u001b[0;32m    173\u001b[0m         ]\n\u001b[0;32m    174\u001b[0m     \u001b[38;5;28;01mexcept\u001b[39;00m (GatedRepoError, RepositoryNotFoundError, RevisionNotFoundError):\n\u001b[0;32m    175\u001b[0m         \u001b[38;5;28;01mraise\u001b[39;00m  \u001b[38;5;66;03m# valid errors => do not catch\u001b[39;00m\n",
      "File \u001b[1;32m~\\anaconda3\\Lib\\site-packages\\huggingface_hub\\hf_api.py:3171\u001b[0m, in \u001b[0;36mHfApi.list_repo_tree\u001b[1;34m(self, repo_id, path_in_repo, recursive, expand, revision, repo_type, token)\u001b[0m\n\u001b[0;32m   3169\u001b[0m encoded_path_in_repo \u001b[38;5;241m=\u001b[39m \u001b[38;5;124m\"\u001b[39m\u001b[38;5;124m/\u001b[39m\u001b[38;5;124m\"\u001b[39m \u001b[38;5;241m+\u001b[39m quote(path_in_repo, safe\u001b[38;5;241m=\u001b[39m\u001b[38;5;124m\"\u001b[39m\u001b[38;5;124m\"\u001b[39m) \u001b[38;5;28;01mif\u001b[39;00m path_in_repo \u001b[38;5;28;01melse\u001b[39;00m \u001b[38;5;124m\"\u001b[39m\u001b[38;5;124m\"\u001b[39m\n\u001b[0;32m   3170\u001b[0m tree_url \u001b[38;5;241m=\u001b[39m \u001b[38;5;124mf\u001b[39m\u001b[38;5;124m\"\u001b[39m\u001b[38;5;132;01m{\u001b[39;00m\u001b[38;5;28mself\u001b[39m\u001b[38;5;241m.\u001b[39mendpoint\u001b[38;5;132;01m}\u001b[39;00m\u001b[38;5;124m/api/\u001b[39m\u001b[38;5;132;01m{\u001b[39;00mrepo_type\u001b[38;5;132;01m}\u001b[39;00m\u001b[38;5;124ms/\u001b[39m\u001b[38;5;132;01m{\u001b[39;00mrepo_id\u001b[38;5;132;01m}\u001b[39;00m\u001b[38;5;124m/tree/\u001b[39m\u001b[38;5;132;01m{\u001b[39;00mrevision\u001b[38;5;132;01m}\u001b[39;00m\u001b[38;5;132;01m{\u001b[39;00mencoded_path_in_repo\u001b[38;5;132;01m}\u001b[39;00m\u001b[38;5;124m\"\u001b[39m\n\u001b[1;32m-> 3171\u001b[0m \u001b[38;5;28;01mfor\u001b[39;00m path_info \u001b[38;5;129;01min\u001b[39;00m paginate(path\u001b[38;5;241m=\u001b[39mtree_url, headers\u001b[38;5;241m=\u001b[39mheaders, params\u001b[38;5;241m=\u001b[39m{\u001b[38;5;124m\"\u001b[39m\u001b[38;5;124mrecursive\u001b[39m\u001b[38;5;124m\"\u001b[39m: recursive, \u001b[38;5;124m\"\u001b[39m\u001b[38;5;124mexpand\u001b[39m\u001b[38;5;124m\"\u001b[39m: expand}):\n\u001b[0;32m   3172\u001b[0m     \u001b[38;5;28;01myield\u001b[39;00m (RepoFile(\u001b[38;5;241m*\u001b[39m\u001b[38;5;241m*\u001b[39mpath_info) \u001b[38;5;28;01mif\u001b[39;00m path_info[\u001b[38;5;124m\"\u001b[39m\u001b[38;5;124mtype\u001b[39m\u001b[38;5;124m\"\u001b[39m] \u001b[38;5;241m==\u001b[39m \u001b[38;5;124m\"\u001b[39m\u001b[38;5;124mfile\u001b[39m\u001b[38;5;124m\"\u001b[39m \u001b[38;5;28;01melse\u001b[39;00m RepoFolder(\u001b[38;5;241m*\u001b[39m\u001b[38;5;241m*\u001b[39mpath_info))\n",
      "File \u001b[1;32m~\\anaconda3\\Lib\\site-packages\\huggingface_hub\\utils\\_pagination.py:36\u001b[0m, in \u001b[0;36mpaginate\u001b[1;34m(path, params, headers)\u001b[0m\n\u001b[0;32m     28\u001b[0m \u001b[38;5;250m\u001b[39m\u001b[38;5;124;03m\"\"\"Fetch a list of models/datasets/spaces and paginate through results.\u001b[39;00m\n\u001b[0;32m     29\u001b[0m \n\u001b[0;32m     30\u001b[0m \u001b[38;5;124;03mThis is using the same \"Link\" header format as GitHub.\u001b[39;00m\n\u001b[1;32m   (...)\u001b[0m\n\u001b[0;32m     33\u001b[0m \u001b[38;5;124;03m- https://docs.github.com/en/rest/guides/traversing-with-pagination#link-header\u001b[39;00m\n\u001b[0;32m     34\u001b[0m \u001b[38;5;124;03m\"\"\"\u001b[39;00m\n\u001b[0;32m     35\u001b[0m session \u001b[38;5;241m=\u001b[39m get_session()\n\u001b[1;32m---> 36\u001b[0m r \u001b[38;5;241m=\u001b[39m session\u001b[38;5;241m.\u001b[39mget(path, params\u001b[38;5;241m=\u001b[39mparams, headers\u001b[38;5;241m=\u001b[39mheaders)\n\u001b[0;32m     37\u001b[0m hf_raise_for_status(r)\n\u001b[0;32m     38\u001b[0m \u001b[38;5;28;01myield from\u001b[39;00m r\u001b[38;5;241m.\u001b[39mjson()\n",
      "File \u001b[1;32m~\\anaconda3\\Lib\\site-packages\\requests\\sessions.py:602\u001b[0m, in \u001b[0;36mSession.get\u001b[1;34m(self, url, **kwargs)\u001b[0m\n\u001b[0;32m    594\u001b[0m \u001b[38;5;250m\u001b[39m\u001b[38;5;124mr\u001b[39m\u001b[38;5;124;03m\"\"\"Sends a GET request. Returns :class:`Response` object.\u001b[39;00m\n\u001b[0;32m    595\u001b[0m \n\u001b[0;32m    596\u001b[0m \u001b[38;5;124;03m:param url: URL for the new :class:`Request` object.\u001b[39;00m\n\u001b[0;32m    597\u001b[0m \u001b[38;5;124;03m:param \\*\\*kwargs: Optional arguments that ``request`` takes.\u001b[39;00m\n\u001b[0;32m    598\u001b[0m \u001b[38;5;124;03m:rtype: requests.Response\u001b[39;00m\n\u001b[0;32m    599\u001b[0m \u001b[38;5;124;03m\"\"\"\u001b[39;00m\n\u001b[0;32m    601\u001b[0m kwargs\u001b[38;5;241m.\u001b[39msetdefault(\u001b[38;5;124m\"\u001b[39m\u001b[38;5;124mallow_redirects\u001b[39m\u001b[38;5;124m\"\u001b[39m, \u001b[38;5;28;01mTrue\u001b[39;00m)\n\u001b[1;32m--> 602\u001b[0m \u001b[38;5;28;01mreturn\u001b[39;00m \u001b[38;5;28mself\u001b[39m\u001b[38;5;241m.\u001b[39mrequest(\u001b[38;5;124m\"\u001b[39m\u001b[38;5;124mGET\u001b[39m\u001b[38;5;124m\"\u001b[39m, url, \u001b[38;5;241m*\u001b[39m\u001b[38;5;241m*\u001b[39mkwargs)\n",
      "File \u001b[1;32m~\\anaconda3\\Lib\\site-packages\\requests\\sessions.py:589\u001b[0m, in \u001b[0;36mSession.request\u001b[1;34m(self, method, url, params, data, headers, cookies, files, auth, timeout, allow_redirects, proxies, hooks, stream, verify, cert, json)\u001b[0m\n\u001b[0;32m    584\u001b[0m send_kwargs \u001b[38;5;241m=\u001b[39m {\n\u001b[0;32m    585\u001b[0m     \u001b[38;5;124m\"\u001b[39m\u001b[38;5;124mtimeout\u001b[39m\u001b[38;5;124m\"\u001b[39m: timeout,\n\u001b[0;32m    586\u001b[0m     \u001b[38;5;124m\"\u001b[39m\u001b[38;5;124mallow_redirects\u001b[39m\u001b[38;5;124m\"\u001b[39m: allow_redirects,\n\u001b[0;32m    587\u001b[0m }\n\u001b[0;32m    588\u001b[0m send_kwargs\u001b[38;5;241m.\u001b[39mupdate(settings)\n\u001b[1;32m--> 589\u001b[0m resp \u001b[38;5;241m=\u001b[39m \u001b[38;5;28mself\u001b[39m\u001b[38;5;241m.\u001b[39msend(prep, \u001b[38;5;241m*\u001b[39m\u001b[38;5;241m*\u001b[39msend_kwargs)\n\u001b[0;32m    591\u001b[0m \u001b[38;5;28;01mreturn\u001b[39;00m resp\n",
      "File \u001b[1;32m~\\anaconda3\\Lib\\site-packages\\requests\\sessions.py:703\u001b[0m, in \u001b[0;36mSession.send\u001b[1;34m(self, request, **kwargs)\u001b[0m\n\u001b[0;32m    700\u001b[0m start \u001b[38;5;241m=\u001b[39m preferred_clock()\n\u001b[0;32m    702\u001b[0m \u001b[38;5;66;03m# Send the request\u001b[39;00m\n\u001b[1;32m--> 703\u001b[0m r \u001b[38;5;241m=\u001b[39m adapter\u001b[38;5;241m.\u001b[39msend(request, \u001b[38;5;241m*\u001b[39m\u001b[38;5;241m*\u001b[39mkwargs)\n\u001b[0;32m    705\u001b[0m \u001b[38;5;66;03m# Total elapsed time of the request (approximately)\u001b[39;00m\n\u001b[0;32m    706\u001b[0m elapsed \u001b[38;5;241m=\u001b[39m preferred_clock() \u001b[38;5;241m-\u001b[39m start\n",
      "File \u001b[1;32m~\\anaconda3\\Lib\\site-packages\\huggingface_hub\\utils\\_http.py:96\u001b[0m, in \u001b[0;36mUniqueRequestIdAdapter.send\u001b[1;34m(self, request, *args, **kwargs)\u001b[0m\n\u001b[0;32m     94\u001b[0m     logger\u001b[38;5;241m.\u001b[39mdebug(\u001b[38;5;124mf\u001b[39m\u001b[38;5;124m\"\u001b[39m\u001b[38;5;124mSend: \u001b[39m\u001b[38;5;132;01m{\u001b[39;00m_curlify(request)\u001b[38;5;132;01m}\u001b[39;00m\u001b[38;5;124m\"\u001b[39m)\n\u001b[0;32m     95\u001b[0m \u001b[38;5;28;01mtry\u001b[39;00m:\n\u001b[1;32m---> 96\u001b[0m     \u001b[38;5;28;01mreturn\u001b[39;00m \u001b[38;5;28msuper\u001b[39m()\u001b[38;5;241m.\u001b[39msend(request, \u001b[38;5;241m*\u001b[39margs, \u001b[38;5;241m*\u001b[39m\u001b[38;5;241m*\u001b[39mkwargs)\n\u001b[0;32m     97\u001b[0m \u001b[38;5;28;01mexcept\u001b[39;00m requests\u001b[38;5;241m.\u001b[39mRequestException \u001b[38;5;28;01mas\u001b[39;00m e:\n\u001b[0;32m     98\u001b[0m     request_id \u001b[38;5;241m=\u001b[39m request\u001b[38;5;241m.\u001b[39mheaders\u001b[38;5;241m.\u001b[39mget(X_AMZN_TRACE_ID)\n",
      "File \u001b[1;32m~\\anaconda3\\Lib\\site-packages\\requests\\adapters.py:700\u001b[0m, in \u001b[0;36mHTTPAdapter.send\u001b[1;34m(self, request, stream, timeout, verify, cert, proxies)\u001b[0m\n\u001b[0;32m    696\u001b[0m     \u001b[38;5;28;01mif\u001b[39;00m \u001b[38;5;28misinstance\u001b[39m(e\u001b[38;5;241m.\u001b[39mreason, _SSLError):\n\u001b[0;32m    697\u001b[0m         \u001b[38;5;66;03m# This branch is for urllib3 v1.22 and later.\u001b[39;00m\n\u001b[0;32m    698\u001b[0m         \u001b[38;5;28;01mraise\u001b[39;00m SSLError(e, request\u001b[38;5;241m=\u001b[39mrequest)\n\u001b[1;32m--> 700\u001b[0m     \u001b[38;5;28;01mraise\u001b[39;00m \u001b[38;5;167;01mConnectionError\u001b[39;00m(e, request\u001b[38;5;241m=\u001b[39mrequest)\n\u001b[0;32m    702\u001b[0m \u001b[38;5;28;01mexcept\u001b[39;00m ClosedPoolError \u001b[38;5;28;01mas\u001b[39;00m e:\n\u001b[0;32m    703\u001b[0m     \u001b[38;5;28;01mraise\u001b[39;00m \u001b[38;5;167;01mConnectionError\u001b[39;00m(e, request\u001b[38;5;241m=\u001b[39mrequest)\n",
      "\u001b[1;31mConnectionError\u001b[0m: (MaxRetryError('HTTPSConnectionPool(host=\\'huggingface.co\\', port=443): Max retries exceeded with url: /api/models/bert-base-uncased/tree/main/additional_chat_templates?recursive=False&expand=False (Caused by NameResolutionError(\"<urllib3.connection.HTTPSConnection object at 0x000002C7BAADACC0>: Failed to resolve \\'huggingface.co\\' ([Errno 11001] getaddrinfo failed)\"))'), '(Request ID: 95aacf9e-0ca9-44c1-8711-171202b12fb9)')"
     ]
    }
   ],
   "source": [
    "from transformers import BertTokenizer\n",
    "\n",
    "tokenizer = BertTokenizer.from_pretrained('bert-base-uncased')\n",
    "\n",
    "sentence = \"I am Bala and I live in India!1.\"\n",
    "tokens = tokenizer.tokenize(sentence)\n",
    "token_ids = tokenizer.convert_tokens_to_ids(tokens)\n",
    "\n",
    "print(\"Tokens:\", tokens)\n",
    "\n",
    "\n",
    "\n",
    "\n",
    "\n",
    "\n",
    "print(\"Token IDs:\", token_ids)\n"
   ]
  },
  {
   "cell_type": "code",
   "execution_count": 2,
   "id": "686fed53-fbf3-4ed9-a918-df1570bb762a",
   "metadata": {},
   "outputs": [
    {
     "name": "stdout",
     "output_type": "stream",
     "text": [
      "['quantum', 'computing', 'is', 'mind', '##bl', '##owing']\n",
      "[8559, 9798, 2003, 2568, 16558, 14138]\n"
     ]
    }
   ],
   "source": [
    "from transformers import BertTokenizer\n",
    "\n",
    "token = BertTokenizer.from_pretrained('bert-base-uncased')\n",
    "\n",
    "sent='quantum computing is mindblowing'\n",
    "toeknss=token.tokenize(sent)\n",
    "toekn_ids=token.convert_tokens_to_ids(toeknss)\n",
    "print(toeknss)\n",
    "print(toekn_ids)"
   ]
  },
  {
   "cell_type": "code",
   "execution_count": 3,
   "id": "c3bea093-2cfb-4788-8981-b45445012e45",
   "metadata": {
    "scrolled": true
   },
   "outputs": [
    {
     "name": "stderr",
     "output_type": "stream",
     "text": [
      "C:\\Users\\balap\\anaconda3\\Lib\\site-packages\\torch\\nn\\modules\\module.py:1762: FutureWarning: `encoder_attention_mask` is deprecated and will be removed in version 4.55.0 for `BertSelfAttention.forward`.\n",
      "  return forward_call(*args, **kwargs)\n"
     ]
    },
    {
     "name": "stdout",
     "output_type": "stream",
     "text": [
      "CLS Token Embedding (pooled_output): tensor([[-8.3410e-01, -3.4494e-01, -5.0613e-01,  6.3429e-01,  3.2574e-01,\n",
      "         -5.1560e-02,  7.3790e-01,  1.8188e-01, -5.4094e-01, -9.9993e-01,\n",
      "         -6.6150e-02,  7.3746e-01,  9.7902e-01,  4.1270e-01,  8.9313e-01,\n",
      "         -5.6218e-01, -2.6464e-01, -6.1683e-01,  3.6045e-01, -2.1126e-01,\n",
      "          5.7514e-01,  9.9971e-01,  2.3822e-01,  2.8097e-01,  4.3846e-01,\n",
      "          9.1564e-01, -6.7803e-01,  9.0172e-01,  9.5133e-01,  6.9018e-01,\n",
      "         -5.7014e-01,  1.2137e-01, -9.8382e-01, -1.7567e-01, -7.6536e-01,\n",
      "         -9.8734e-01,  3.2085e-01, -7.0316e-01,  3.8728e-02,  1.2580e-01,\n",
      "         -8.7402e-01,  1.7155e-01,  9.9981e-01, -6.8862e-02,  2.0812e-01,\n",
      "         -3.3437e-01, -1.0000e+00,  2.9884e-01, -8.2141e-01,  5.6623e-01,\n",
      "          5.4212e-01,  2.9561e-01,  1.5572e-01,  3.7214e-01,  4.4009e-01,\n",
      "         -2.7314e-02, -1.6753e-01,  1.2928e-01, -2.3485e-01, -4.9533e-01,\n",
      "         -6.2531e-01,  3.4663e-01, -7.0625e-01, -8.5633e-01,  7.2947e-01,\n",
      "          6.5417e-01, -7.4357e-02, -2.6151e-01,  6.2275e-02, -6.2711e-02,\n",
      "          7.3642e-01,  2.1781e-01,  5.3383e-02, -8.2993e-01,  3.2163e-01,\n",
      "          3.2138e-01, -6.7820e-01,  1.0000e+00, -3.5398e-01, -9.5934e-01,\n",
      "          4.2621e-01,  5.6371e-01,  5.8994e-01,  1.4735e-02,  3.9727e-01,\n",
      "         -1.0000e+00,  2.4136e-01, -6.8676e-02, -9.8579e-01,  1.8921e-01,\n",
      "          3.5652e-01, -1.6639e-01,  4.0963e-01,  6.4056e-01, -4.7708e-01,\n",
      "         -3.5750e-01, -2.2405e-01, -6.8690e-01, -3.0970e-01, -1.1891e-01,\n",
      "          8.3972e-02, -2.3331e-01, -2.3006e-01, -4.3131e-01,  3.1242e-01,\n",
      "         -4.7137e-01, -3.1150e-01,  4.4704e-01, -2.0003e-03,  6.2908e-01,\n",
      "          4.9405e-01, -3.7050e-01,  3.6604e-01, -9.3859e-01,  6.0322e-01,\n",
      "         -3.1274e-01, -9.7999e-01, -6.2667e-01, -9.8174e-01,  5.1367e-01,\n",
      "         -1.5045e-01, -1.3978e-01,  9.0974e-01, -6.7262e-02,  3.0942e-01,\n",
      "         -4.0961e-02, -4.9896e-01, -1.0000e+00, -4.7742e-01, -5.6953e-01,\n",
      "          4.1632e-02, -1.7585e-01, -9.6763e-01, -9.4241e-01,  5.5351e-01,\n",
      "          9.3381e-01,  1.7011e-01,  9.9947e-01, -1.7349e-01,  9.2880e-01,\n",
      "         -1.6786e-01, -6.0878e-01,  2.7876e-01, -3.8150e-01,  7.1173e-01,\n",
      "         -9.4985e-02, -5.9572e-01,  2.3861e-01, -1.9590e-01, -5.8940e-02,\n",
      "         -4.4242e-01, -1.8684e-01, -5.6514e-01, -9.2701e-01, -3.7331e-01,\n",
      "          9.2405e-01, -1.7269e-01, -7.7421e-01,  2.9870e-02, -2.1707e-01,\n",
      "         -3.4010e-01,  7.8795e-01,  5.3173e-01,  3.2008e-01, -2.3841e-01,\n",
      "          4.0366e-01,  7.9419e-02,  4.8172e-01, -7.2951e-01,  2.5950e-01,\n",
      "          3.7455e-01, -2.9614e-01, -6.1508e-01, -9.7354e-01, -3.3268e-01,\n",
      "          4.8518e-01,  9.8482e-01,  6.6349e-01,  3.2041e-01,  3.4378e-01,\n",
      "         -1.9188e-01,  4.6104e-01, -9.4272e-01,  9.7015e-01, -2.3916e-01,\n",
      "          2.6961e-01, -3.6599e-01,  2.5420e-01, -8.0576e-01,  3.4551e-02,\n",
      "          7.2138e-01, -1.8292e-01, -7.6762e-01,  5.1136e-03, -4.8997e-01,\n",
      "         -3.0594e-01, -4.3468e-01,  3.4279e-01, -2.6971e-01, -3.3385e-01,\n",
      "          4.2528e-02,  9.0465e-01,  9.2330e-01,  6.3948e-01, -8.6772e-02,\n",
      "          6.5341e-01, -8.0054e-01, -4.1691e-01,  3.5729e-02,  1.8213e-01,\n",
      "          1.8589e-01,  9.8698e-01, -4.6652e-01, -5.7370e-02, -9.3370e-01,\n",
      "         -9.8130e-01, -1.3575e-01, -8.7810e-01, -1.0834e-01, -6.9073e-01,\n",
      "          5.7037e-01,  2.6114e-01,  2.8133e-01,  4.3545e-01, -9.2209e-01,\n",
      "         -6.5398e-01,  4.0434e-01, -3.6201e-01,  4.3865e-01, -2.6059e-01,\n",
      "          7.1006e-01,  7.7316e-01, -5.4805e-01,  4.2406e-01,  9.1857e-01,\n",
      "         -6.7484e-01, -7.1457e-01,  7.1298e-01, -2.0891e-01,  8.2949e-01,\n",
      "         -5.3526e-01,  9.7573e-01,  6.8567e-01,  5.6150e-01, -8.8448e-01,\n",
      "         -5.7630e-01, -7.5557e-01, -3.4767e-01,  8.7770e-02, -6.3894e-02,\n",
      "          6.9884e-01,  6.5583e-01,  2.4362e-01,  4.2544e-01, -5.4223e-01,\n",
      "          9.6564e-01, -8.3126e-01, -9.4410e-01, -2.4108e-01,  2.8950e-02,\n",
      "         -9.8304e-01,  6.1128e-01,  3.0415e-01, -7.8939e-02, -4.7572e-01,\n",
      "         -5.4500e-01, -9.5055e-01,  7.7402e-01,  5.3625e-02,  9.5225e-01,\n",
      "         -7.7129e-02, -8.5990e-01, -4.4273e-01, -9.0088e-01, -1.6999e-01,\n",
      "         -2.3929e-01, -1.0747e-01, -1.2538e-01, -9.3863e-01,  4.4477e-01,\n",
      "          5.1627e-01,  4.3151e-01, -4.8139e-01,  9.9026e-01,  1.0000e+00,\n",
      "          9.5522e-01,  8.6095e-01,  7.6527e-01, -9.9640e-01, -4.8767e-01,\n",
      "          9.9998e-01, -9.3305e-01, -1.0000e+00, -8.9881e-01, -4.1041e-01,\n",
      "          1.9179e-01, -1.0000e+00, -1.9012e-01,  1.6686e-01, -8.9968e-01,\n",
      "          4.5194e-01,  9.6645e-01,  9.3390e-01, -1.0000e+00,  7.4127e-01,\n",
      "          8.8463e-01, -6.9270e-01,  8.1953e-01, -3.6900e-01,  9.5767e-01,\n",
      "          4.6172e-01,  1.5033e-01, -1.4301e-01,  3.8188e-01, -7.9263e-01,\n",
      "         -8.1099e-01, -2.8406e-01, -5.4296e-01,  9.8372e-01,  1.1422e-01,\n",
      "         -7.3113e-01, -8.6332e-01,  2.2321e-01, -4.9989e-02, -3.0148e-01,\n",
      "         -9.5134e-01, -2.3610e-01, -7.8696e-04,  7.1429e-01,  5.2275e-02,\n",
      "          2.9388e-01, -4.7699e-01,  2.2367e-01, -6.4810e-02,  9.3141e-02,\n",
      "          7.1788e-01, -9.3237e-01, -3.3626e-01, -2.0882e-01, -3.6731e-01,\n",
      "         -2.9289e-01, -9.4346e-01,  9.3312e-01, -3.5432e-01,  4.8398e-01,\n",
      "          1.0000e+00,  2.4603e-01, -7.5191e-01,  6.3363e-01,  2.3927e-01,\n",
      "         -3.5461e-01,  1.0000e+00,  7.4192e-01, -9.6619e-01, -5.6602e-01,\n",
      "          5.1832e-01, -4.0819e-01, -5.8218e-01,  9.9843e-01, -2.4661e-01,\n",
      "         -4.3237e-01,  5.2039e-02,  9.7246e-01, -9.8501e-01,  9.7256e-01,\n",
      "         -8.2665e-01, -9.5091e-01,  9.3660e-01,  9.0666e-01, -4.6439e-01,\n",
      "         -6.3101e-01,  1.5978e-01, -5.5702e-01,  2.0236e-01, -8.6499e-01,\n",
      "          4.9475e-01,  4.2665e-01, -7.8095e-02,  8.4290e-01, -6.0172e-01,\n",
      "         -5.9821e-01,  2.0902e-01, -4.0767e-01,  2.7678e-01,  6.6630e-01,\n",
      "          4.8076e-01, -3.4307e-01,  3.2472e-02, -2.5966e-01, -6.2165e-01,\n",
      "         -9.5252e-01,  3.3210e-01,  1.0000e+00,  4.3365e-02,  4.9621e-01,\n",
      "         -2.8952e-01, -1.4914e-03, -2.6276e-01,  4.9810e-01,  5.4882e-01,\n",
      "         -2.8817e-01, -8.3663e-01,  5.8310e-01, -8.6929e-01, -9.8239e-01,\n",
      "          6.1379e-01,  9.0698e-02, -2.6595e-01,  9.9984e-01,  2.6748e-01,\n",
      "          1.8822e-01,  1.2220e-01,  8.5562e-01,  5.6546e-02,  3.2188e-01,\n",
      "          7.1657e-01,  9.7712e-01, -1.6786e-01,  6.2250e-01,  5.7336e-01,\n",
      "         -6.9468e-01, -3.4134e-01, -6.0515e-01, -2.1119e-02, -9.2362e-01,\n",
      "          1.3703e-01, -9.1324e-01,  9.4965e-01,  6.6143e-01,  3.6415e-01,\n",
      "          1.7527e-01,  4.2602e-01,  1.0000e+00, -5.3635e-01,  5.4586e-01,\n",
      "          2.4450e-01,  6.3393e-01, -9.9669e-01, -7.3557e-01, -2.6407e-01,\n",
      "         -6.4709e-02, -5.5403e-01, -4.0784e-01,  2.2803e-01, -9.5245e-01,\n",
      "          5.3069e-01,  3.5736e-01, -9.5734e-01, -9.8330e-01, -8.4504e-02,\n",
      "          5.9814e-01,  5.8345e-02, -9.0787e-01, -5.9714e-01, -5.8856e-01,\n",
      "          1.6967e-01, -2.4600e-01, -9.0783e-01,  1.6439e-01, -2.5459e-01,\n",
      "          3.9585e-01, -1.1776e-01,  6.4742e-01,  5.9940e-01,  6.2754e-01,\n",
      "         -3.0695e-01,  1.1395e-01,  4.3123e-02, -7.4026e-01,  7.9861e-01,\n",
      "         -7.5184e-01, -5.4668e-01, -2.0371e-01,  1.0000e+00, -5.9183e-01,\n",
      "          7.0581e-01,  6.7141e-01,  5.3095e-01, -1.6284e-01,  2.4560e-01,\n",
      "          8.1137e-01,  3.0928e-01, -5.9547e-01, -5.5625e-01, -1.6840e-01,\n",
      "         -3.5740e-01,  6.0503e-01,  1.1726e-01,  5.4131e-01,  6.7415e-01,\n",
      "          5.8662e-01,  1.7500e-01,  5.2561e-02, -9.2875e-02,  9.9374e-01,\n",
      "         -5.4182e-02, -8.3708e-02, -2.9661e-01, -2.5761e-02, -3.0191e-01,\n",
      "         -2.0738e-01,  1.0000e+00,  3.2962e-01,  2.2846e-01, -9.8527e-01,\n",
      "         -5.5486e-01, -8.4724e-01,  9.9998e-01,  7.8722e-01, -6.7815e-01,\n",
      "          5.6271e-01,  5.3706e-01, -1.8885e-01,  6.3619e-01, -1.2195e-01,\n",
      "         -3.3763e-01,  1.7921e-01,  1.2523e-01,  9.4475e-01, -4.9988e-01,\n",
      "         -9.5881e-01, -5.2726e-01,  3.0589e-01, -9.5152e-01,  9.9867e-01,\n",
      "         -4.9573e-01, -3.5834e-01, -4.4744e-01,  2.9225e-01, -2.8196e-01,\n",
      "         -1.2568e-01, -9.7757e-01, -1.4992e-01,  2.3545e-01,  9.2210e-01,\n",
      "          2.4331e-01, -6.0317e-01, -7.7835e-01,  1.9455e-01,  3.4384e-01,\n",
      "         -6.1422e-01, -9.4018e-01,  9.5327e-01, -9.7277e-01,  4.6195e-01,\n",
      "          1.0000e+00,  3.9655e-01, -5.1703e-01, -1.5910e-02, -2.7003e-01,\n",
      "          1.6520e-01, -1.6519e-01,  5.9380e-01, -9.3809e-01, -2.7176e-01,\n",
      "         -1.3916e-01,  2.4400e-01, -1.8208e-01,  2.2342e-01,  6.1122e-01,\n",
      "          2.1586e-01, -5.6514e-01, -4.4803e-01, -3.9869e-03,  2.7019e-01,\n",
      "          7.3543e-01, -2.6156e-01, -1.6534e-01,  1.0857e-02, -2.7038e-02,\n",
      "         -8.3422e-01, -2.5204e-01, -2.2973e-01, -9.9984e-01,  5.5511e-01,\n",
      "         -1.0000e+00,  3.1096e-02, -1.9780e-02, -2.4223e-01,  7.3283e-01,\n",
      "          3.2341e-01,  4.9869e-01, -6.6350e-01, -6.2572e-01,  6.7835e-01,\n",
      "          7.5619e-01, -2.4544e-01,  7.9460e-02, -6.2165e-01,  1.8536e-01,\n",
      "         -1.2681e-01,  1.6278e-01, -4.1225e-01,  8.1440e-01, -6.4891e-02,\n",
      "          1.0000e+00,  7.9210e-02, -6.1212e-01, -9.1019e-01,  2.0542e-01,\n",
      "         -2.4684e-01,  1.0000e+00, -7.5566e-01, -9.1498e-01,  3.2922e-01,\n",
      "         -5.2252e-01, -8.1005e-01,  2.8120e-01, -6.0740e-04, -5.6000e-01,\n",
      "         -6.4956e-01,  8.9523e-01,  7.2224e-01, -5.8972e-01,  5.1520e-01,\n",
      "         -2.8331e-01, -4.3626e-01,  4.3502e-02,  4.6096e-01,  9.8036e-01,\n",
      "          2.0392e-01,  7.7563e-01,  1.6706e-01, -2.8781e-01,  9.5601e-01,\n",
      "          2.0103e-01,  1.7879e-01,  8.5664e-02,  1.0000e+00,  3.0296e-01,\n",
      "         -8.6656e-01,  3.0337e-01, -9.4494e-01, -1.8074e-01, -9.1902e-01,\n",
      "          1.7186e-01,  1.9237e-01,  8.8937e-01, -2.5330e-01,  9.3224e-01,\n",
      "         -1.4511e-01,  1.0447e-02, -3.1326e-01, -2.7911e-01,  2.8385e-01,\n",
      "         -8.8500e-01, -9.7909e-01, -9.7756e-01,  5.7740e-01, -4.5024e-01,\n",
      "         -6.0825e-02,  2.6099e-01,  5.1637e-02,  3.2198e-01,  3.8602e-01,\n",
      "         -1.0000e+00,  8.9256e-01,  3.2569e-01,  7.7019e-01,  9.2445e-01,\n",
      "          4.8817e-01,  3.6802e-01,  2.1569e-01, -9.7196e-01, -8.8401e-01,\n",
      "         -2.4177e-01, -2.1739e-01,  7.0479e-01,  6.4539e-01,  8.8057e-01,\n",
      "          3.1156e-01, -5.4005e-01, -1.6554e-01, -2.7875e-01, -6.1547e-01,\n",
      "         -9.8771e-01,  4.0738e-01, -3.6128e-01, -8.3522e-01,  9.5731e-01,\n",
      "         -1.5527e-01, -1.7706e-01,  7.8964e-02, -5.3322e-01,  8.0034e-01,\n",
      "          7.3495e-01,  2.4654e-01,  1.6818e-01,  3.1291e-01,  8.1205e-01,\n",
      "          9.0316e-01,  9.8153e-01, -5.9706e-01,  7.3700e-01, -1.2530e-01,\n",
      "          3.8247e-01,  7.6587e-01, -9.3080e-01,  1.1329e-01,  9.5696e-02,\n",
      "         -2.7732e-01,  1.8271e-01, -1.4401e-01, -9.0821e-01,  7.6463e-01,\n",
      "         -3.0081e-01,  3.6305e-01, -3.5202e-01,  1.1989e-01, -4.3189e-01,\n",
      "         -9.5558e-02, -7.2059e-01, -4.8113e-01,  6.3082e-01,  2.7308e-01,\n",
      "          8.3240e-01,  6.7406e-01, -2.6049e-02, -5.6418e-01, -9.0279e-02,\n",
      "         -4.9830e-01, -9.0229e-01,  7.7861e-01,  1.4117e-02, -2.0569e-01,\n",
      "          5.3215e-01, -7.4942e-02,  8.2024e-01, -1.2858e-01, -2.8216e-01,\n",
      "         -3.2440e-01, -6.0093e-01,  8.0407e-01, -1.8929e-01, -5.3114e-01,\n",
      "         -6.2008e-01,  5.6115e-01,  3.3338e-01,  9.9967e-01, -4.5882e-01,\n",
      "         -6.3562e-01, -1.9204e-01, -2.3562e-01,  4.1508e-01, -3.4041e-01,\n",
      "         -1.0000e+00,  4.1025e-01, -7.9597e-02,  5.5182e-01, -3.7189e-01,\n",
      "          2.8742e-01, -3.2558e-01, -9.4179e-01, -2.9198e-01,  1.9092e-01,\n",
      "          5.0546e-01, -5.1016e-01, -4.1999e-01,  5.7260e-01,  1.6716e-01,\n",
      "          8.2738e-01,  7.2911e-01,  1.2884e-01,  4.0936e-01,  6.8253e-01,\n",
      "         -5.2184e-01, -6.4226e-01,  8.6538e-01]], grad_fn=<TanhBackward0>)\n",
      "Shape of last hidden state: torch.Size([1, 8, 768])\n",
      "Number of layers in hidden_states: 13\n"
     ]
    }
   ],
   "source": [
    "import torch\n",
    "from transformers import BertTokenizer, BertModel\n",
    "local_model_path= r'C:\\Users\\balap\\for jupyter note book\\BERT\\bert_local'\n",
    "tokenizer = BertTokenizer.from_pretrained(local_model_path)\n",
    "model = BertModel.from_pretrained(local_model_path, output_hidden_states=True, output_attentions=True)\n",
    "\n",
    "sentence = \"I am Bala.1!\"\n",
    "inputs = tokenizer(sentence, return_tensors='pt')\n",
    "\n",
    "outputs = model(**inputs)\n",
    "\n",
    "last_hidden_state = outputs.last_hidden_state  # Shape: [1, SeqLen, HiddenSize]\n",
    "pooled_output = outputs.pooler_output          # Shape: [1, HiddenSize]\n",
    "hidden_states = outputs.hidden_states          # Tuple of 13 layers (Embeddings + 12 layers)\n",
    "attentions = outputs.attentions                # Tuple of attention maps for each layer\n",
    "\n",
    "print(\"CLS Token Embedding (pooled_output):\", pooled_output)\n",
    "print(\"Shape of last hidden state:\", last_hidden_state.shape)\n",
    "print(\"Number of layers in hidden_states:\", len(hidden_states))\n"
   ]
  },
  {
   "cell_type": "markdown",
   "id": "bf2ba886-117a-4fad-ac63-e5b1ffd1e8af",
   "metadata": {},
   "source": [
    "THE FIRST MODEL DEPLOYNMENT......................................................................................\n"
   ]
  },
  {
   "cell_type": "code",
   "execution_count": 5,
   "id": "d95d9760-d6e5-4c15-8fe0-aa68c8db57a3",
   "metadata": {},
   "outputs": [],
   "source": [
    "from transformers import BertTokenizer,BertForSequenceClassification,Trainer,TrainingArguments\n",
    "from datasets import load_dataset\n",
    "import pandas as pd"
   ]
  },
  {
   "cell_type": "code",
   "execution_count": 6,
   "id": "ab2764f2-0d37-4af6-8bbe-50f5cf54148a",
   "metadata": {},
   "outputs": [],
   "source": [
    "dataset= load_dataset('imdb')"
   ]
  },
  {
   "cell_type": "code",
   "execution_count": 7,
   "id": "454e83cc-6ca9-4307-b335-f3c82f616f22",
   "metadata": {
    "scrolled": true
   },
   "outputs": [],
   "source": [
    "local_model_path=r\"C:\\Users\\balap\\for jupyter note book\\BERT\\bert_local\""
   ]
  },
  {
   "cell_type": "code",
   "execution_count": 9,
   "id": "761f357f-9edd-4dd3-bb63-f336c9ee46c1",
   "metadata": {},
   "outputs": [],
   "source": [
    "tokenzier=BertTokenizer.from_pretrained(local_model_path)\n",
    "def tokenize_function(examples):\n",
    "    return tokenizer(examples['text'],padding='max_length',truncation=True)\n",
    "tokenize_dataset= dataset.map(tokenize_function, batched=True)"
   ]
  },
  {
   "cell_type": "code",
   "execution_count": 9,
   "id": "d54a15e5-7d1c-425d-957a-67a752e20826",
   "metadata": {},
   "outputs": [
    {
     "name": "stderr",
     "output_type": "stream",
     "text": [
      "Some weights of BertForSequenceClassification were not initialized from the model checkpoint at C:\\Users\\balap\\for jupyter note book\\BERT\\bert_local and are newly initialized: ['classifier.bias', 'classifier.weight']\n",
      "You should probably TRAIN this model on a down-stream task to be able to use it for predictions and inference.\n"
     ]
    }
   ],
   "source": [
    "model= BertForSequenceClassification.from_pretrained(local_model_path,num_labels=2)\n"
   ]
  },
  {
   "cell_type": "code",
   "execution_count": 14,
   "id": "f5bcb591-9b66-43d4-a802-333340e8b68b",
   "metadata": {},
   "outputs": [],
   "source": [
    "trainig_arg=TrainingArguments(\n",
    "    output_dir='./results',\n",
    "    eval_strategy ='epoch',\n",
    "    learning_rate=0.00002,\n",
    "    per_device_train_batch_size= 8,\n",
    "    num_train_epochs=1,\n",
    "    weight_decay= 0.01,\n",
    ")\n",
    "\n",
    "    \n"
   ]
  },
  {
   "cell_type": "code",
   "execution_count": 20,
   "id": "a47f04c8-2a0a-437c-8812-de2d15078209",
   "metadata": {},
   "outputs": [],
   "source": [
    "trainer= Trainer(\n",
    "    model=model,\n",
    "    args= trainig_arg,\n",
    "    train_dataset= tokenize_dataset['train'].shuffle(seed=42).select(range(500)),\n",
    "    eval_dataset= tokenize_dataset['test'].shuffle(seed=42).select(range(100)),\n",
    ")\n",
    "                                                    \n",
    "                                            \n"
   ]
  },
  {
   "cell_type": "code",
   "execution_count": 22,
   "id": "2676efaf-9b2c-4c1f-8ea3-92217b704a47",
   "metadata": {},
   "outputs": [
    {
     "data": {
      "text/html": [
       "\n",
       "    <div>\n",
       "      \n",
       "      <progress value='63' max='63' style='width:300px; height:20px; vertical-align: middle;'></progress>\n",
       "      [63/63 17:41, Epoch 1/1]\n",
       "    </div>\n",
       "    <table border=\"1\" class=\"dataframe\">\n",
       "  <thead>\n",
       " <tr style=\"text-align: left;\">\n",
       "      <th>Epoch</th>\n",
       "      <th>Training Loss</th>\n",
       "      <th>Validation Loss</th>\n",
       "    </tr>\n",
       "  </thead>\n",
       "  <tbody>\n",
       "    <tr>\n",
       "      <td>1</td>\n",
       "      <td>No log</td>\n",
       "      <td>0.469704</td>\n",
       "    </tr>\n",
       "  </tbody>\n",
       "</table><p>"
      ],
      "text/plain": [
       "<IPython.core.display.HTML object>"
      ]
     },
     "metadata": {},
     "output_type": "display_data"
    },
    {
     "name": "stderr",
     "output_type": "stream",
     "text": [
      "C:\\Users\\balap\\anaconda3\\Lib\\site-packages\\torch\\utils\\data\\dataloader.py:665: UserWarning: 'pin_memory' argument is set as true but no accelerator is found, then device pinned memory won't be used.\n",
      "  warnings.warn(warn_msg)\n",
      "C:\\Users\\balap\\anaconda3\\Lib\\site-packages\\torch\\nn\\modules\\module.py:1762: FutureWarning: `encoder_attention_mask` is deprecated and will be removed in version 4.55.0 for `BertSdpaSelfAttention.forward`.\n",
      "  return forward_call(*args, **kwargs)\n"
     ]
    },
    {
     "data": {
      "text/plain": [
       "TrainOutput(global_step=63, training_loss=0.5704627264113653, metrics={'train_runtime': 1081.0311, 'train_samples_per_second': 0.463, 'train_steps_per_second': 0.058, 'total_flos': 131555527680000.0, 'train_loss': 0.5704627264113653, 'epoch': 1.0})"
      ]
     },
     "execution_count": 22,
     "metadata": {},
     "output_type": "execute_result"
    }
   ],
   "source": [
    "trainer.train()"
   ]
  },
  {
   "cell_type": "code",
   "execution_count": 39,
   "id": "210b7f63-6cea-4747-803b-a423292297d6",
   "metadata": {},
   "outputs": [
    {
     "name": "stdout",
     "output_type": "stream",
     "text": [
      "predicted class: positive\n"
     ]
    }
   ],
   "source": [
    "inputs= tokenizer(\"This movie is wwaste \",return_tensors='pt')\n",
    "outputs=model(**inputs)\n",
    "logits=outputs.logits\n",
    "predicted_class=logits.argmax().item()\n",
    "print(\"predicted class:\",\"positive\" if predicted_class==1 else \"negative\")"
   ]
  },
  {
   "cell_type": "code",
   "execution_count": 59,
   "id": "934a9f38-1bd0-419e-88c0-bda4c3dd559c",
   "metadata": {},
   "outputs": [
    {
     "data": {
      "text/plain": [
       "('./bert_sentiment_model\\\\tokenizer_config.json',\n",
       " './bert_sentiment_model\\\\special_tokens_map.json',\n",
       " './bert_sentiment_model\\\\vocab.txt',\n",
       " './bert_sentiment_model\\\\added_tokens.json')"
      ]
     },
     "execution_count": 59,
     "metadata": {},
     "output_type": "execute_result"
    }
   ],
   "source": [
    "# Save model\n",
    "model.save_pretrained(\"./bert_sentiment_model\")\n",
    "# Save tokenizer\n",
    "tokenizer.save_pretrained(\"./bert_sentiment_model\")\n"
   ]
  },
  {
   "cell_type": "code",
   "execution_count": 45,
   "id": "9bb7deef-6bb9-4239-b77a-e78c5ecab00d",
   "metadata": {},
   "outputs": [],
   "source": [
    "from fastapi import FastAPI\n",
    "from pydantic import BaseModel"
   ]
  },
  {
   "cell_type": "code",
   "execution_count": 49,
   "id": "1cc2773c-af99-45f8-9b6e-59f3b223f024",
   "metadata": {},
   "outputs": [
    {
     "name": "stderr",
     "output_type": "stream",
     "text": [
      "Some weights of BertForSequenceClassification were not initialized from the model checkpoint at C:\\Users\\balap\\for jupyter note book\\BERT\\bert_local and are newly initialized: ['classifier.bias', 'classifier.weight']\n",
      "You should probably TRAIN this model on a down-stream task to be able to use it for predictions and inference.\n"
     ]
    }
   ],
   "source": [
    "app=FastAPI()\n",
    "model_paath=r\"C:\\Users\\balap\\for jupyter note book\\BERT\\bert_local\"\n",
    "token= BertTokenizer.from_pretrained(model_paath)\n",
    "model_1= BertForSequenceClassification.from_pretrained(model_paath)\n",
    "class InputText(BaseModel):\n",
    "    text:str\n",
    "\n",
    "def predict_sentiment(input_text:InputText):\n",
    "    inputs= token(input_text.text,return_tensors='pt',padding=True, Truncation= True)\n",
    "    with torch.no_grad():\n",
    "        outputs=model_1(**inputs)\n",
    "    logits=outputs.logits\n",
    "    prediction=torch.argmax(logits,dim=1,).item()\n",
    "    sentiment =\"positive\" if  prediction==1 else \"negative\"\n",
    "    return{'input':input_text.text,'prediction':sentiment}\n"
   ]
  },
  {
   "cell_type": "code",
   "execution_count": 53,
   "id": "d312007c-3236-4da9-a293-546d3e12f83b",
   "metadata": {
    "scrolled": true
   },
   "outputs": [
    {
     "name": "stdout",
     "output_type": "stream",
     "text": [
      "Requirement already satisfied: fastapi[all] in c:\\users\\balap\\anaconda3\\lib\\site-packages (0.116.1)\n",
      "Requirement already satisfied: starlette<0.48.0,>=0.40.0 in c:\\users\\balap\\anaconda3\\lib\\site-packages (from fastapi[all]) (0.47.2)\n",
      "Requirement already satisfied: pydantic!=1.8,!=1.8.1,!=2.0.0,!=2.0.1,!=2.1.0,<3.0.0,>=1.7.4 in c:\\users\\balap\\anaconda3\\lib\\site-packages (from fastapi[all]) (2.8.2)\n",
      "Requirement already satisfied: typing-extensions>=4.8.0 in c:\\users\\balap\\anaconda3\\lib\\site-packages (from fastapi[all]) (4.11.0)\n",
      "Collecting fastapi-cli>=0.0.8 (from fastapi-cli[standard]>=0.0.8; extra == \"all\"->fastapi[all])\n",
      "  Downloading fastapi_cli-0.0.8-py3-none-any.whl.metadata (6.3 kB)\n",
      "Requirement already satisfied: httpx>=0.23.0 in c:\\users\\balap\\anaconda3\\lib\\site-packages (from fastapi[all]) (0.27.0)\n",
      "Collecting jinja2>=3.1.5 (from fastapi[all])\n",
      "  Downloading jinja2-3.1.6-py3-none-any.whl.metadata (2.9 kB)\n",
      "Collecting python-multipart>=0.0.18 (from fastapi[all])\n",
      "  Downloading python_multipart-0.0.20-py3-none-any.whl.metadata (1.8 kB)\n",
      "Requirement already satisfied: itsdangerous>=1.1.0 in c:\\users\\balap\\anaconda3\\lib\\site-packages (from fastapi[all]) (2.2.0)\n",
      "Requirement already satisfied: pyyaml>=5.3.1 in c:\\users\\balap\\anaconda3\\lib\\site-packages (from fastapi[all]) (6.0.1)\n",
      "Requirement already satisfied: ujson!=4.0.2,!=4.1.0,!=4.2.0,!=4.3.0,!=5.0.0,!=5.1.0,>=4.0.1 in c:\\users\\balap\\anaconda3\\lib\\site-packages (from fastapi[all]) (5.10.0)\n",
      "Collecting orjson>=3.2.1 (from fastapi[all])\n",
      "  Downloading orjson-3.11.1-cp312-cp312-win_amd64.whl.metadata (43 kB)\n",
      "Collecting email-validator>=2.0.0 (from fastapi[all])\n",
      "  Downloading email_validator-2.2.0-py3-none-any.whl.metadata (25 kB)\n",
      "Collecting uvicorn>=0.12.0 (from uvicorn[standard]>=0.12.0; extra == \"all\"->fastapi[all])\n",
      "  Downloading uvicorn-0.35.0-py3-none-any.whl.metadata (6.5 kB)\n",
      "Requirement already satisfied: pydantic-settings>=2.0.0 in c:\\users\\balap\\anaconda3\\lib\\site-packages (from fastapi[all]) (2.6.1)\n",
      "Collecting pydantic-extra-types>=2.0.0 (from fastapi[all])\n",
      "  Downloading pydantic_extra_types-2.10.5-py3-none-any.whl.metadata (3.9 kB)\n",
      "Collecting dnspython>=2.0.0 (from email-validator>=2.0.0->fastapi[all])\n",
      "  Downloading dnspython-2.7.0-py3-none-any.whl.metadata (5.8 kB)\n",
      "Requirement already satisfied: idna>=2.0.0 in c:\\users\\balap\\anaconda3\\lib\\site-packages (from email-validator>=2.0.0->fastapi[all]) (3.7)\n",
      "Collecting typer>=0.15.1 (from fastapi-cli>=0.0.8->fastapi-cli[standard]>=0.0.8; extra == \"all\"->fastapi[all])\n",
      "  Downloading typer-0.16.0-py3-none-any.whl.metadata (15 kB)\n",
      "Collecting rich-toolkit>=0.14.8 (from fastapi-cli>=0.0.8->fastapi-cli[standard]>=0.0.8; extra == \"all\"->fastapi[all])\n",
      "  Downloading rich_toolkit-0.14.9-py3-none-any.whl.metadata (999 bytes)\n",
      "Collecting fastapi-cloud-cli>=0.1.1 (from fastapi-cli[standard]>=0.0.8; extra == \"all\"->fastapi[all])\n",
      "  Downloading fastapi_cloud_cli-0.1.5-py3-none-any.whl.metadata (3.2 kB)\n",
      "Requirement already satisfied: anyio in c:\\users\\balap\\anaconda3\\lib\\site-packages (from httpx>=0.23.0->fastapi[all]) (4.2.0)\n",
      "Requirement already satisfied: certifi in c:\\users\\balap\\anaconda3\\lib\\site-packages (from httpx>=0.23.0->fastapi[all]) (2025.1.31)\n",
      "Requirement already satisfied: httpcore==1.* in c:\\users\\balap\\anaconda3\\lib\\site-packages (from httpx>=0.23.0->fastapi[all]) (1.0.2)\n",
      "Requirement already satisfied: sniffio in c:\\users\\balap\\anaconda3\\lib\\site-packages (from httpx>=0.23.0->fastapi[all]) (1.3.0)\n",
      "Requirement already satisfied: h11<0.15,>=0.13 in c:\\users\\balap\\anaconda3\\lib\\site-packages (from httpcore==1.*->httpx>=0.23.0->fastapi[all]) (0.14.0)\n",
      "Requirement already satisfied: MarkupSafe>=2.0 in c:\\users\\balap\\anaconda3\\lib\\site-packages (from jinja2>=3.1.5->fastapi[all]) (2.1.3)\n",
      "Requirement already satisfied: annotated-types>=0.4.0 in c:\\users\\balap\\anaconda3\\lib\\site-packages (from pydantic!=1.8,!=1.8.1,!=2.0.0,!=2.0.1,!=2.1.0,<3.0.0,>=1.7.4->fastapi[all]) (0.6.0)\n",
      "Requirement already satisfied: pydantic-core==2.20.1 in c:\\users\\balap\\anaconda3\\lib\\site-packages (from pydantic!=1.8,!=1.8.1,!=2.0.0,!=2.0.1,!=2.1.0,<3.0.0,>=1.7.4->fastapi[all]) (2.20.1)\n",
      "Requirement already satisfied: python-dotenv>=0.21.0 in c:\\users\\balap\\anaconda3\\lib\\site-packages (from pydantic-settings>=2.0.0->fastapi[all]) (0.21.0)\n",
      "Requirement already satisfied: click>=7.0 in c:\\users\\balap\\anaconda3\\lib\\site-packages (from uvicorn>=0.12.0->uvicorn[standard]>=0.12.0; extra == \"all\"->fastapi[all]) (8.1.7)\n",
      "Requirement already satisfied: colorama>=0.4 in c:\\users\\balap\\anaconda3\\lib\\site-packages (from uvicorn[standard]>=0.12.0; extra == \"all\"->fastapi[all]) (0.4.6)\n",
      "Collecting httptools>=0.6.3 (from uvicorn[standard]>=0.12.0; extra == \"all\"->fastapi[all])\n",
      "  Downloading httptools-0.6.4-cp312-cp312-win_amd64.whl.metadata (3.7 kB)\n",
      "Collecting watchfiles>=0.13 (from uvicorn[standard]>=0.12.0; extra == \"all\"->fastapi[all])\n",
      "  Downloading watchfiles-1.1.0-cp312-cp312-win_amd64.whl.metadata (5.0 kB)\n",
      "Collecting websockets>=10.4 (from uvicorn[standard]>=0.12.0; extra == \"all\"->fastapi[all])\n",
      "  Downloading websockets-15.0.1-cp312-cp312-win_amd64.whl.metadata (7.0 kB)\n",
      "Collecting rignore>=0.5.1 (from fastapi-cloud-cli>=0.1.1->fastapi-cli[standard]>=0.0.8; extra == \"all\"->fastapi[all])\n",
      "  Downloading rignore-0.6.4-cp312-cp312-win_amd64.whl.metadata (3.9 kB)\n",
      "Collecting sentry-sdk>=2.20.0 (from fastapi-cloud-cli>=0.1.1->fastapi-cli[standard]>=0.0.8; extra == \"all\"->fastapi[all])\n",
      "  Downloading sentry_sdk-2.34.1-py2.py3-none-any.whl.metadata (10 kB)\n",
      "Requirement already satisfied: rich>=13.7.1 in c:\\users\\balap\\anaconda3\\lib\\site-packages (from rich-toolkit>=0.14.8->fastapi-cli>=0.0.8->fastapi-cli[standard]>=0.0.8; extra == \"all\"->fastapi[all]) (13.7.1)\n",
      "Collecting typing-extensions>=4.8.0 (from fastapi[all])\n",
      "  Downloading typing_extensions-4.14.1-py3-none-any.whl.metadata (3.0 kB)\n",
      "Requirement already satisfied: shellingham>=1.3.0 in c:\\users\\balap\\anaconda3\\lib\\site-packages (from typer>=0.15.1->fastapi-cli>=0.0.8->fastapi-cli[standard]>=0.0.8; extra == \"all\"->fastapi[all]) (1.5.0)\n",
      "Requirement already satisfied: markdown-it-py>=2.2.0 in c:\\users\\balap\\anaconda3\\lib\\site-packages (from rich>=13.7.1->rich-toolkit>=0.14.8->fastapi-cli>=0.0.8->fastapi-cli[standard]>=0.0.8; extra == \"all\"->fastapi[all]) (2.2.0)\n",
      "Requirement already satisfied: pygments<3.0.0,>=2.13.0 in c:\\users\\balap\\anaconda3\\lib\\site-packages (from rich>=13.7.1->rich-toolkit>=0.14.8->fastapi-cli>=0.0.8->fastapi-cli[standard]>=0.0.8; extra == \"all\"->fastapi[all]) (2.15.1)\n",
      "Requirement already satisfied: urllib3>=1.26.11 in c:\\users\\balap\\anaconda3\\lib\\site-packages (from sentry-sdk>=2.20.0->fastapi-cloud-cli>=0.1.1->fastapi-cli[standard]>=0.0.8; extra == \"all\"->fastapi[all]) (2.2.3)\n",
      "Requirement already satisfied: mdurl~=0.1 in c:\\users\\balap\\anaconda3\\lib\\site-packages (from markdown-it-py>=2.2.0->rich>=13.7.1->rich-toolkit>=0.14.8->fastapi-cli>=0.0.8->fastapi-cli[standard]>=0.0.8; extra == \"all\"->fastapi[all]) (0.1.0)\n",
      "Downloading email_validator-2.2.0-py3-none-any.whl (33 kB)\n",
      "Downloading fastapi_cli-0.0.8-py3-none-any.whl (10 kB)\n",
      "Downloading jinja2-3.1.6-py3-none-any.whl (134 kB)\n",
      "Downloading orjson-3.11.1-cp312-cp312-win_amd64.whl (131 kB)\n",
      "Downloading pydantic_extra_types-2.10.5-py3-none-any.whl (38 kB)\n",
      "Downloading python_multipart-0.0.20-py3-none-any.whl (24 kB)\n",
      "Downloading uvicorn-0.35.0-py3-none-any.whl (66 kB)\n",
      "Downloading dnspython-2.7.0-py3-none-any.whl (313 kB)\n",
      "Downloading fastapi_cloud_cli-0.1.5-py3-none-any.whl (18 kB)\n",
      "Downloading httptools-0.6.4-cp312-cp312-win_amd64.whl (88 kB)\n",
      "Downloading rich_toolkit-0.14.9-py3-none-any.whl (25 kB)\n",
      "Downloading typing_extensions-4.14.1-py3-none-any.whl (43 kB)\n",
      "Downloading typer-0.16.0-py3-none-any.whl (46 kB)\n",
      "Downloading watchfiles-1.1.0-cp312-cp312-win_amd64.whl (292 kB)\n",
      "Downloading websockets-15.0.1-cp312-cp312-win_amd64.whl (176 kB)\n",
      "Downloading rignore-0.6.4-cp312-cp312-win_amd64.whl (720 kB)\n",
      "   ---------------------------------------- 0.0/720.4 kB ? eta -:--:--\n",
      "   -------------- ------------------------- 262.1/720.4 kB ? eta -:--:--\n",
      "   ---------------------------------------- 720.4/720.4 kB 1.8 MB/s eta 0:00:00\n",
      "Downloading sentry_sdk-2.34.1-py2.py3-none-any.whl (357 kB)\n",
      "Installing collected packages: websockets, typing-extensions, sentry-sdk, rignore, python-multipart, orjson, jinja2, httptools, dnspython, watchfiles, uvicorn, email-validator, typer, rich-toolkit, pydantic-extra-types, fastapi-cli, fastapi-cloud-cli\n",
      "  Attempting uninstall: typing-extensions\n",
      "    Found existing installation: typing_extensions 4.11.0\n",
      "    Uninstalling typing_extensions-4.11.0:\n",
      "      Successfully uninstalled typing_extensions-4.11.0\n",
      "  Attempting uninstall: sentry-sdk\n",
      "    Found existing installation: sentry-sdk 2.18.0\n",
      "    Uninstalling sentry-sdk-2.18.0:\n",
      "      Successfully uninstalled sentry-sdk-2.18.0\n",
      "  Attempting uninstall: jinja2\n",
      "    Found existing installation: Jinja2 3.1.4\n",
      "    Uninstalling Jinja2-3.1.4:\n",
      "      Successfully uninstalled Jinja2-3.1.4\n",
      "  Attempting uninstall: typer\n",
      "    Found existing installation: typer 0.9.0\n",
      "    Uninstalling typer-0.9.0:\n",
      "      Successfully uninstalled typer-0.9.0\n",
      "Successfully installed dnspython-2.7.0 email-validator-2.2.0 fastapi-cli-0.0.8 fastapi-cloud-cli-0.1.5 httptools-0.6.4 jinja2-3.1.6 orjson-3.11.1 pydantic-extra-types-2.10.5 python-multipart-0.0.20 rich-toolkit-0.14.9 rignore-0.6.4 sentry-sdk-2.34.1 typer-0.16.0 typing-extensions-4.14.1 uvicorn-0.35.0 watchfiles-1.1.0 websockets-15.0.1\n",
      "Note: you may need to restart the kernel to use updated packages.\n"
     ]
    },
    {
     "name": "stderr",
     "output_type": "stream",
     "text": [
      "ERROR: pip's dependency resolver does not currently take into account all the packages that are installed. This behaviour is the source of the following dependency conflicts.\n",
      "aext-shared 4.1.0 requires anaconda-cloud-auth>=0.7.1, which is not installed.\n",
      "aext-share-notebook-server 4.1.0 requires anaconda-cloud-auth>=0.7.1, which is not installed.\n",
      "aext-toolbox 4.1.0 requires anaconda-cloud-auth>=0.7.1, which is not installed.\n",
      "\n",
      "[notice] A new release of pip is available: 25.0.1 -> 25.2\n",
      "[notice] To update, run: python.exe -m pip install --upgrade pip\n"
     ]
    }
   ],
   "source": [
    "pip install \"fastapi[all]\""
   ]
  },
  {
   "cell_type": "code",
   "execution_count": 51,
   "id": "02b52274-304c-4dd3-8fe8-4ed4556b480f",
   "metadata": {},
   "outputs": [
    {
     "ename": "SyntaxError",
     "evalue": "invalid syntax (1867459706.py, line 1)",
     "output_type": "error",
     "traceback": [
      "\u001b[1;36m  Cell \u001b[1;32mIn[51], line 1\u001b[1;36m\u001b[0m\n\u001b[1;33m    uvicorn app:app --reload\u001b[0m\n\u001b[1;37m            ^\u001b[0m\n\u001b[1;31mSyntaxError\u001b[0m\u001b[1;31m:\u001b[0m invalid syntax\n"
     ]
    }
   ],
   "source": [
    "uvicorn app:app --reload\n"
   ]
  },
  {
   "cell_type": "code",
   "execution_count": 57,
   "id": "7a1f2630-dd05-47e8-bbc0-aba7d39c2403",
   "metadata": {},
   "outputs": [
    {
     "name": "stderr",
     "output_type": "stream",
     "text": [
      "Some weights of BertForSequenceClassification were not initialized from the model checkpoint at C:\\Users\\balap\\for jupyter note book\\BERT\\bert_local and are newly initialized: ['classifier.bias', 'classifier.weight']\n",
      "You should probably TRAIN this model on a down-stream task to be able to use it for predictions and inference.\n"
     ]
    }
   ],
   "source": [
    "from fastapi import FastAPI\n",
    "from pydantic import BaseModel\n",
    "from transformers import BertTokenizer, BertForSequenceClassification\n",
    "import torch\n",
    "\n",
    "app = FastAPI()\n",
    "\n",
    "# Load model and tokenizer from local path\n",
    "MODEL_PATH =r\"C:\\Users\\balap\\for jupyter note book\\BERT\\bert_local\"\n",
    "tokenizer = BertTokenizer.from_pretrained(MODEL_PATH)\n",
    "model = BertForSequenceClassification.from_pretrained(MODEL_PATH)\n",
    "\n",
    "class InputText(BaseModel):\n",
    "    text: str\n",
    "\n",
    "@app.post(\"/predict\")\n",
    "def predict_sentiment(input_text: InputText):\n",
    "    inputs = tokenizer(input_text.text, return_tensors=\"pt\", truncation=True, padding=True)\n",
    "    with torch.no_grad():\n",
    "        outputs = model(**inputs)\n",
    "    logits = outputs.logits\n",
    "    prediction = torch.argmax(logits, dim=1).item()\n",
    "    sentiment = \"Positive\" if prediction == 1 else \"Negative\"\n",
    "    return {\"input\": input_text.text, \"prediction\": sentiment}\n"
   ]
  },
  {
   "cell_type": "code",
   "execution_count": null,
   "id": "d55a9537-3db0-426e-bf43-e3a42b53647a",
   "metadata": {},
   "outputs": [],
   "source": []
  },
  {
   "cell_type": "code",
   "execution_count": null,
   "id": "833f33c2-23a8-4fb4-8ac1-d1a6f69f72bc",
   "metadata": {},
   "outputs": [],
   "source": []
  }
 ],
 "metadata": {
  "kernelspec": {
   "display_name": "Python 3 (ipykernel)",
   "language": "python",
   "name": "python3"
  },
  "language_info": {
   "codemirror_mode": {
    "name": "ipython",
    "version": 3
   },
   "file_extension": ".py",
   "mimetype": "text/x-python",
   "name": "python",
   "nbconvert_exporter": "python",
   "pygments_lexer": "ipython3",
   "version": "3.12.7"
  }
 },
 "nbformat": 4,
 "nbformat_minor": 5
}
